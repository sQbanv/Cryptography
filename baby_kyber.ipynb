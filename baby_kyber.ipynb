{
 "cells": [
  {
   "cell_type": "markdown",
   "id": "4680a3d8",
   "metadata": {},
   "source": [
    "# Mini Projekt - Baby Kyber"
   ]
  },
  {
   "cell_type": "markdown",
   "id": "c444d5d3",
   "metadata": {},
   "source": [
    "## Pierścień $\\mathbb{Z}_{17}[X]/(X^4+1)$"
   ]
  },
  {
   "cell_type": "code",
   "execution_count": 207,
   "id": "1279a018",
   "metadata": {},
   "outputs": [],
   "source": [
    "# skopiuj pierścień ilorazowy wielomianów z pierwszych zajęć\n",
    "class Zn():\n",
    "    def __init__(self, value, N):\n",
    "        self.N = N\n",
    "        self.value = value % N\n",
    "    \n",
    "    def __add__(self, other):\n",
    "        if isinstance(other, Zn):\n",
    "            if self.N != other.N:\n",
    "                ValueError(\"Cannot add (+) numbers from different rings\")\n",
    "            return Zn(self.value + other.value, self.N)\n",
    "        elif isinstance(other, int):\n",
    "            return Zn(self.value + other, self.N)\n",
    "    \n",
    "    def __radd__(self, other):\n",
    "        return self + other\n",
    "        \n",
    "    def __sub__(self, other):\n",
    "        if isinstance(other, Zn):\n",
    "            if self.N != other.N:\n",
    "                ValueError(\"Cannot subtract (-) numbers from different rings\")\n",
    "            return Zn(self.value - other.value, self.N)\n",
    "        elif isinstance(other, int):\n",
    "            return Zn(self.value - other, self.N)\n",
    "        \n",
    "    def __rsub__(self, other):\n",
    "        if isinstance(other, Zn):\n",
    "            if self.N != other.N:\n",
    "                ValueError(\"Cannot subtract (-) numbers from different rings\")\n",
    "            return Zn(other.value - self.value, self.N)\n",
    "        elif isinstance(other, int):\n",
    "            return Zn(other.value - self.value, self.N)\n",
    "\n",
    "    def __mul__(self, other):\n",
    "        if isinstance(other, Zn):\n",
    "            if self.N != other.N:\n",
    "                ValueError(\"Cannot multiply (*) numbers from different rings\")\n",
    "            return Zn(self.value * other.value, self.N)\n",
    "        elif isinstance(other, int):\n",
    "            return Zn(self.value * other, self.N)\n",
    "        \n",
    "    def __rmul__(self, other):\n",
    "        return self * other\n",
    "\n",
    "    def __pow__(self, other):\n",
    "        if isinstance(other, Zn):\n",
    "            if self.N != other.N:\n",
    "                ValueError(\"Cannot power (**) numbers from different rings\")\n",
    "            return Zn(self.value ** other.value, self.N)\n",
    "        elif isinstance(other, int):\n",
    "            return Zn(self.value ** other, self.N)\n",
    "        \n",
    "    def __rpow__(self, other):\n",
    "        if isinstance(other, Zn):\n",
    "            if self.N != other.N:\n",
    "                ValueError(\"Cannot power (**) numbers from different rings\")\n",
    "            return Zn(other.value ** self.value, self.N)\n",
    "        elif isinstance(other, int):\n",
    "            return Zn(other ** self.value, self.N)\n",
    "\n",
    "    def __repr__(self):\n",
    "        return f\"{self.value}\"\n",
    "\n",
    "\n",
    "class ZnW():\n",
    "    def __init__(self, w, N, W):\n",
    "        self.N = N\n",
    "        self.W = [Zn(c, N) for c in W]\n",
    "        self.w = [Zn(c, N) for c in w]\n",
    "        self.reduce()\n",
    "\n",
    "    def reduce(self):\n",
    "        while len(self.w) >= len(self.W):\n",
    "            leading_term = self.w[-1]\n",
    "            if leading_term.value == 0:\n",
    "                self.w.pop()\n",
    "                continue\n",
    "            factor = leading_term.value\n",
    "            degree_diff = len(self.w) - len(self.W)\n",
    "            for i in range(len(self.W)):\n",
    "                self.w[degree_diff + i] -= factor * self.W[i]\n",
    "            while self.w and self.w[-1].value == 0:\n",
    "                self.w.pop()\n",
    "            \n",
    "\n",
    "    def __add__(self, other):\n",
    "        if not isinstance(other, ZnW):\n",
    "            raise ValueError(\"Can only add ZnW instances\")\n",
    "        if self.N != other.N or self.W != self.W:\n",
    "            raise ValueError(\"ZnW instances must have the same modulus and reduction polynomial\")\n",
    "\n",
    "        max_len = max(len(self.w), len(other.w))\n",
    "        result = [Zn(0, self.N) for _ in range(max_len)]\n",
    "        for i in range(max_len):\n",
    "            a = self.w[i] if i < len(self.w) else Zn(0, self.N)\n",
    "            b = other.w[i] if i < len(other.w) else Zn(0, self.N)\n",
    "            result[i] = a + b\n",
    "\n",
    "        return ZnW([c.value for c in result], self.N, [c.value for c in self.W])\n",
    "\n",
    "    def __radd__(self,other):\n",
    "        return self + other\n",
    "    \n",
    "    def __mul__(self, other):\n",
    "        if isinstance(other, int):\n",
    "            result = [Zn(0, self.N) for _ in range(len(self.w))]\n",
    "            for i in range(len(self.w)):\n",
    "                result[i] = self.w[i] * other\n",
    "            \n",
    "            return ZnW([c.value for c in result], self.N, [c.value for c in self.W])\n",
    "\n",
    "        elif isinstance(other, ZnW):\n",
    "            if self.N != other.N or [c.value for c in self.W] != [c.value for c in other.W]:\n",
    "                raise ValueError(\"ZnW instances must have the same modulus and reduction polynomial\")\n",
    "\n",
    "            max_len = len(self.w) + len(other.w) - 1\n",
    "            result = [Zn(0,self.N) for _ in range(max_len)]\n",
    "            for i, a in enumerate(self.w):\n",
    "                for j, b in enumerate(other.w):\n",
    "                    result[i+j] += a * b\n",
    "            \n",
    "            return ZnW([c.value for c in result], self.N, [c.value for c in self.W])\n",
    "\n",
    "        else:\n",
    "            raise ValueError(\"Can only multiply ZnW or int instances\")\n",
    "\n",
    "    def __rmul__(self, other):\n",
    "        return self * other\n",
    "\n",
    "    def __repr__(self):\n",
    "        return \" + \".join(f\"{coef}x^{i}\" for i, coef in enumerate(self.w) if coef.value != 0)"
   ]
  },
  {
   "cell_type": "markdown",
   "id": "ffc5b429",
   "metadata": {},
   "source": [
    "## Baby Kyber\n",
    "\n",
    "Zaimplementuj poniższe elementy kryptosystemu Baby Kyber tak, aby osiągnąć jak największą skuteczność w testach (przy niezerowych błędach). Wymagana minimalna skuteczność to 60%."
   ]
  },
  {
   "cell_type": "code",
   "execution_count": 268,
   "id": "25dbaa51",
   "metadata": {},
   "outputs": [],
   "source": [
    "import numpy as np\n",
    "\n",
    "k = 2\n",
    "q = 3329\n",
    "n = 4\n",
    "\n",
    "W = [1,0,0,0,1]\n",
    "\n",
    "def random_ZnW(q, n):\n",
    "    return ZnW([np.random.randint(0, q) for _ in range(n)], q, W)\n",
    "\n",
    "def random_B_n(q, n):\n",
    "    return ZnW(np.random.choice([-1, 0, 1], size=n, p=[1/4, 1/2, 1/4]), q, W)\n",
    "\n",
    "def generate_A(k):\n",
    "    return np.array([[random_ZnW(q, n) for _ in range(k)] for _ in range(k)])"
   ]
  },
  {
   "cell_type": "markdown",
   "id": "9d5febcb",
   "metadata": {},
   "source": [
    "### Generowanie klucza\n",
    "\n",
    "Zaimplementuj funkcję `key_gen()` realizującą generowanie klucza w kryptosystemie Baby Kyber. Funkcja ma zwracać `A,t,s`. Przetestuj, czy dla podanych $A,s,e$ otrzymasz poprawny wielomian $t$.\n",
    "\n",
    "$A=\\left[\\begin{matrix}\n",
    "    6x^3+16x^2+16x+11&9x^3+4x^2+6x+3\\\\\n",
    "    5x^3+3x^2+10x+1&6x^3+x^2+9x+15\n",
    "\\end{matrix}\\right]$\n",
    "\n",
    "$\\mathbf{s}=(-x^3-x^2+x,-x^3-x)$\n",
    "\n",
    "$\\mathbf{e}=(x^2,x^2-x)$\n",
    "\n",
    "$\\mathbf{t}=A\\mathbf{s}+\\mathbf{e}:\\ \\ \\mathbf{t}=(16x^3+15x^2+7,10x^3+12x^2+11x+6)$"
   ]
  },
  {
   "cell_type": "code",
   "execution_count": 269,
   "id": "069eefca",
   "metadata": {},
   "outputs": [
    {
     "name": "stdout",
     "output_type": "stream",
     "text": [
      "[[1753x^0 + 3084x^1 + 2551x^2 + 953x^3 808x^0 + 1591x^1 + 368x^2 + 387x^3]\n",
      " [1423x^0 + 2282x^1 + 386x^2 + 1802x^3\n",
      "  2798x^0 + 3185x^1 + 1007x^2 + 216x^3]] [1813x^0 + 940x^1 + 1762x^2 + 589x^3 3104x^0 + 1182x^1 + 2802x^2 + 1593x^3] [1x^1 + 1x^3 3328x^0]\n"
     ]
    }
   ],
   "source": [
    "def key_gen():\n",
    "    # A = np.array([\n",
    "    #     [ZnW([11, 16, 16, 6], q, W), ZnW([3, 6, 4, 9], q, W)],\n",
    "    #     [ZnW([1, 10, 3, 5], q, W), ZnW([15, 9, 1, 6], q, W)]\n",
    "    # ])\n",
    "\n",
    "    # s = np.array([\n",
    "    #     ZnW([0, 1, -1, -1], q, W), ZnW([0, -1, 0, -1], q, W)\n",
    "    # ])\n",
    "\n",
    "    # e = np.array([\n",
    "    #     ZnW([0, 0, 1], q, W), ZnW([0, -1, 1], q, W)\n",
    "    # ])\n",
    "\n",
    "    A = generate_A(k)\n",
    "\n",
    "    s = np.array([random_B_n(q, n) for _ in range(k)])\n",
    "\n",
    "    e = np.array([random_B_n(q, n) for _ in range(k)])\n",
    "\n",
    "    t = A @ s + e\n",
    "\n",
    "    return A, t, s\n",
    "\n",
    "A, t, s = key_gen()\n",
    "\n",
    "print(A, t, s)"
   ]
  },
  {
   "cell_type": "markdown",
   "id": "60e43683",
   "metadata": {},
   "source": [
    "### Szyfrowanie\n",
    "\n",
    "Zaimplementuj funkcję `encrypt(A,t,m)` realizującą szyfrowanie w kryptosystemie Baby Kyber a gdzie wejściowe `m` jest w postaci listy. Funkcja ma zwracać szyfrogram `c`. Przetestuj poprawność działania na poniższych danych. \n",
    "\n",
    "$m=1\\cdot x^3+0\\cdot x^2+1\\cdot x+1=x^3+x+1$\n",
    "\n",
    "$\\mathbf{r}=(-x^3+x^2,x^3+x^2-1)$\n",
    "\n",
    "$\\mathbf{e_1}=(x^2+x,x^2)$\n",
    "\n",
    "$e_2=-x^3-x^2$\n",
    "\n",
    "$\\mathbf{u}=A^T\\mathbf{r}+\\mathbf{e_1}:\\ \\ \\mathbf{u}=(11x^3+11x^2+10x+3,4x^3+4x^2+13x+11)$\n",
    "\n",
    "$v=\\mathbf{t}^T\\mathbf{r}+e_2+\\lfloor\\frac{q}{2}\\rceil m:\\ \\ v=8x^3+6x^2+9x+16$\n",
    "\n",
    "$\\mathbf{c}=(\\mathbf{u},v):\\ \\ \\mathbf{c}=((11x^3+11x^2+10x+3,4x^3+4x^2+13x+11),8x^3+6x^2+9x+16)$"
   ]
  },
  {
   "cell_type": "code",
   "execution_count": 270,
   "id": "902d15cc",
   "metadata": {},
   "outputs": [
    {
     "name": "stdout",
     "output_type": "stream",
     "text": [
      "(array([421x^0 + 3308x^1 + 868x^2 + 2777x^3,\n",
      "       2493x^0 + 2540x^1 + 542x^2 + 2178x^3], dtype=object), 3075x^0 + 2008x^1 + 3316x^2 + 776x^3)\n"
     ]
    }
   ],
   "source": [
    "def encrypt(A, t, m):\n",
    "    # r = np.array([\n",
    "    #     ZnW([0, 0, 1, -1], q, W), ZnW([-1, 0, 1, 1], q, W)\n",
    "    # ])\n",
    "\n",
    "    # e_1 = np.array([\n",
    "    #     ZnW([0, 1, 1], q, W), ZnW([0, 0, 1], q ,W)\n",
    "    # ])\n",
    "\n",
    "    # e_2 = ZnW([0, 0, -1, -1], q ,W)\n",
    "\n",
    "    r = np.array([random_B_n(q, n) for _ in range(k)])\n",
    "\n",
    "    e_1 = np.array([random_B_n(q, n) for _ in range(k)])\n",
    "\n",
    "    e_2 = random_B_n(q, n)\n",
    "\n",
    "    u = np.transpose(A) @ r + e_1\n",
    "\n",
    "    v = np.transpose(t) @ r + e_2 + ZnW([int(np.ceil(q/2))], q, W) * ZnW(m, q, W)\n",
    "\n",
    "    c = (u, v)\n",
    "\n",
    "    return c\n",
    "\n",
    "\n",
    "m = [1, 1, 0 ,1]\n",
    "c = encrypt(A, t, m)\n",
    "\n",
    "print(c)"
   ]
  },
  {
   "cell_type": "markdown",
   "id": "c0b5fd48",
   "metadata": {},
   "source": [
    "### Deszyfrowanie\n",
    "\n",
    "Zaimplementuj funkcję `decrypt(c,s)` realizującą deszyfrowanie w kryptosystemie Baby Kyber. Funkcja ma zwracać ostateczną odszyfrowaną wiadomość `m_n`. Przetestuj działanie na poniższych danych.\n",
    "\n",
    "$m_n=v-\\mathbf{s}^T\\mathbf{u}:\\ \\ m_n=8x^3+14x^2+8x+6$\n",
    "\n",
    "$m_n=1\\cdot x^3+0\\cdot x^2+1\\cdot x+1$\n"
   ]
  },
  {
   "cell_type": "code",
   "execution_count": 271,
   "id": "9d5ea81f",
   "metadata": {},
   "outputs": [
    {
     "name": "stdout",
     "output_type": "stream",
     "text": [
      "[1, 1, 0, 1]\n"
     ]
    }
   ],
   "source": [
    "def decrypt(c, s):\n",
    "    m_n = c[1] + (-1) * np.transpose(s) @ c[0]\n",
    "\n",
    "    return list(map(lambda x: 0 if (x.value >= 0 and x.value < q/4) or (x.value > q/2 + q/4 and x.value < q) else 1, m_n.w))\n",
    "\n",
    "m_n = decrypt(c, s)\n",
    "\n",
    "print(m_n)"
   ]
  },
  {
   "cell_type": "markdown",
   "id": "c3bf409c",
   "metadata": {},
   "source": [
    "### Testy"
   ]
  },
  {
   "cell_type": "code",
   "execution_count": 273,
   "id": "839e9142",
   "metadata": {},
   "outputs": [
    {
     "name": "stdout",
     "output_type": "stream",
     "text": [
      "Success rate: 100.0 %\n"
     ]
    }
   ],
   "source": [
    "import secrets as sc\n",
    "\n",
    "success = 0\n",
    "for i in range(1000):\n",
    "    output = []\n",
    "    A,t,s = key_gen()\n",
    "    \n",
    "    m=[sc.choice((0,1)) for k in range(4)]\n",
    "    \n",
    "    c = encrypt(A,t,m)\n",
    "    m_n = decrypt(c,s)\n",
    "\n",
    "    if m_n == m:\n",
    "        success += 1\n",
    "\n",
    "print(f'Success rate: {success * 100 /1000} %')\n"
   ]
  }
 ],
 "metadata": {
  "kernelspec": {
   "display_name": "Python 3",
   "language": "python",
   "name": "python3"
  },
  "language_info": {
   "codemirror_mode": {
    "name": "ipython",
    "version": 3
   },
   "file_extension": ".py",
   "mimetype": "text/x-python",
   "name": "python",
   "nbconvert_exporter": "python",
   "pygments_lexer": "ipython3",
   "version": "3.10.6"
  }
 },
 "nbformat": 4,
 "nbformat_minor": 5
}
