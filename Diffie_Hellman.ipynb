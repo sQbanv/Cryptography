{
 "cells": [
  {
   "cell_type": "markdown",
   "id": "552b0fe2",
   "metadata": {},
   "source": [
    "# Problem logarytmu dyskretnego\n",
    "\n",
    "Niech $(G,\\circ)$ będzie grupą z działaniem $\\circ$ i elementem neutralnym $1_G$. Wtedy dla dowolnego elementu $a\\in G$ i $k\\in\\mathbb{Z}$ definiujemy *potęgę* $$a^k =\\left\\{\\begin{array}{cc}\n",
    "\\underbrace{a\\circ a\\circ \\ldots \\circ a}_{k}&\\text{ dla }k>0\\\\\n",
    "1_G&\\text{ dla }k=0\\\\\n",
    "\\underbrace{a^{-1}\\circ a^{-1}\\circ \\ldots \\circ a^{-1}}_{k}&\\text{ dla }k<0\n",
    "\\end{array}\\right.$$\n",
    "gdzie $a^{-1}$ jest elementem odwrotnym do $a$.\n",
    "\n",
    "Dla $a,b\\in G$, $b\\neq 1_G$, *logarytmem dyskretnym* $\\log_b a$ jest każda liczba $k\\in\\mathbb{Z}$ taka, że $b^k=a$.\n",
    "\n",
    "## Logarytm dyskretny w $\\mathbb{Z}_n$\n",
    "\n",
    "W przypadku pierścienia $\\mathbb{Z}_n$ logarytmem dyskretnym $\\log_b a$ jest każda liczba $k\\in\\mathbb{Z}$ taka, że $b^k=a\\mod n$, o ile w ogóle istnieje.\n",
    "\n",
    "Specyficzną sytuacją w teorii liczb jest gdy $n=p$ jest liczbą pierwszą a $q$ jest pierwiastkiem pierwotnym $\\mod p$. Wtedy:\n",
    "- potęgi $q^k\\mod p$ generują cały zbiór $[1,p-1]$, tzn. $q$ jest generatorem grupy multiplikatywneh rzędu $p-1$\n",
    "- logarytm dyskretny $\\log_q a$ istnieje dla każdego niezerowego elementu $a\\in \\mathbb{Z}_p$\n",
    "\n",
    "## Algorytm baby-step giant-step\n",
    "\n",
    "Jeden z najprostszych (poza metodą naiwną) algorytmów poszukiwania logarytmu dyskretnego w grupach cyklicznych.\n",
    "\n",
    "Niech $p$ będzie liczbą pierwszą oraz niech $q$ będzie pierwiastkiem pierwotnym modulo $p$. Dla niezerowego $a\\in\\mathbb{Z}_p$ szukamy liczby $k\\in\\mathbb{Z}$ takiej, że $q^k=a\\mod p$\n",
    "\n",
    "### Krok 1.\n",
    "- $m=\\lceil\\sqrt{p-1}\\rceil$\n",
    "- tworzymy pomocniczą tablicę potęg: dla wszystkich $i\\in [0,m)$ obliczamy parę $(i,q^i)$\n",
    "- obliczamy $r=(q^{-1})^m$\n",
    "### Krok 2.\n",
    "- $b=a$\n",
    "- dla wszystkich $j\\in [0,m)$:\n",
    "    - sprawdzamy, czy para $(i,b)$ jest elementem tablicy potęg dla pewnego $i$\n",
    "    - jeżeli tak, to $k=jm+i$ i kończymy algorytm\n",
    "    - jeżeli nie, to $b=br$ i kontynuujemy pętlę\n"
   ]
  },
  {
   "cell_type": "markdown",
   "id": "0a168713",
   "metadata": {},
   "source": [
    "## Zadanie 1.\n",
    "\n",
    "Zaimplementować algorytm baby-step giant-step. Przetestować dla podanych danych testujących.\n",
    "\n",
    "```Dane testujące:\n",
    "p = 7\n",
    "q = 3\n",
    "a = 4\n",
    "\n",
    "m = 3\n",
    "tablica_testowa = [1,3,2]\n",
    "r = 6\n",
    "k = 4 (j = 1, i = 1)\n",
    "```\n",
    "\n",
    "```\n",
    "p = 29\n",
    "q = 8\n",
    "a = 10\n",
    "\n",
    "m = 6\n",
    "tablica_testowa = [1,8,6,19,7,27]\n",
    "r = 9\n",
    "k = 17 (j = 2, i = 5)\n",
    "```\n",
    "\n",
    "```\n",
    "p = 113\n",
    "q = 76\n",
    "a = 84\n",
    "\n",
    "m = 11\n",
    "tablica_testowa = [1,76,13,84,56,75,50,71,85,19,88]\n",
    "r = 70\n",
    "k = 3 (j = 0, i = 3)\n",
    "```"
   ]
  },
  {
   "cell_type": "code",
   "execution_count": 42,
   "id": "9c934933",
   "metadata": {},
   "outputs": [],
   "source": [
    "import numpy as np\n",
    "\n",
    "def baby_step_giant_step(p, q, a):\n",
    "    m = int(np.ceil(np.sqrt(p - 1)))\n",
    "\n",
    "    pow_dict = {pow(q, i, p): i for i in range(m)}\n",
    "\n",
    "    r = pow(q, -m, p)\n",
    "\n",
    "    b = a\n",
    "    for j in range(m):\n",
    "        if b in pow_dict:\n",
    "            return (j * m + pow_dict[b]) % p\n",
    "        \n",
    "        b = (b*r) % p\n",
    "\n",
    "    return None"
   ]
  },
  {
   "cell_type": "code",
   "execution_count": 43,
   "id": "dc63341c",
   "metadata": {},
   "outputs": [
    {
     "name": "stdout",
     "output_type": "stream",
     "text": [
      "4\n",
      "17\n",
      "3\n",
      "1655747\n"
     ]
    }
   ],
   "source": [
    "p = 7\n",
    "q = 3\n",
    "a = 4\n",
    "\n",
    "print(baby_step_giant_step(p, q, a))\n",
    "\n",
    "p = 29\n",
    "q = 8\n",
    "a = 10\n",
    "\n",
    "print(baby_step_giant_step(p, q, a))\n",
    "\n",
    "p = 113\n",
    "q = 76\n",
    "a = 84\n",
    "\n",
    "print(baby_step_giant_step(p, q, a))\n",
    "\n",
    "p = 4393139\n",
    "q = 76\n",
    "a = 84\n",
    "\n",
    "print(baby_step_giant_step(p, q, a))"
   ]
  },
  {
   "cell_type": "markdown",
   "id": "812b4993",
   "metadata": {},
   "source": [
    "# Wymiana klucza typu Diffie-Hellman\n",
    "\n",
    "Alice i Bob uzgadniają klucz publiczny będący liczbą pierwszą $p$ oraz $q$ - pierwiastkiem pierwotnym mod $p$.\n",
    "- sekret Alice: liczba całkowita $n\\in \\mathbb{Z}_p\\setminus\\{0\\}$\n",
    "- sekret Boba: liczba całkowita $m\\in \\mathbb{Z}_p\\setminus\\{0\\}$\n",
    "- Alice generuje $x=q^n\\mod p$ i wysyła do Boba\n",
    "- Bob generuje $y=q^m\\mod p$ i wysyła Alice\n",
    "- Alice oblicza klucz $k=y^n\\mod p$\n",
    "- Bob oblicza klucz $k=x^m\\mod p$\n"
   ]
  },
  {
   "cell_type": "markdown",
   "id": "076f56f9",
   "metadata": {},
   "source": [
    "## Zadanie 2.\n",
    "\n",
    "Zaimplementuj powyższy algorytm wymiany klucza. Dobierz parametry $p$ i $q$ tak, żeby znając $x$, $y$, $p$ i $q$ nie dało się odtworzyć sekretów algorytmem z zadania 1."
   ]
  },
  {
   "cell_type": "code",
   "execution_count": 67,
   "id": "0310077f",
   "metadata": {},
   "outputs": [],
   "source": [
    "import random\n",
    "\n",
    "def diffie_hellman(p, q):\n",
    "    n = random.randint(1, p-1)\n",
    "    m = random.randint(1, p-1)\n",
    "\n",
    "    x = pow(q, n, p)\n",
    "\n",
    "    y = pow(q, m, p)\n",
    "\n",
    "    k_a = pow(y, n, p)\n",
    "\n",
    "    k_b = pow(x, m, p)\n",
    "\n",
    "    return k_a, n, m, x, y"
   ]
  },
  {
   "cell_type": "code",
   "execution_count": 82,
   "id": "14a18ac8",
   "metadata": {},
   "outputs": [
    {
     "name": "stdout",
     "output_type": "stream",
     "text": [
      "Alice secret: 24\n",
      "Bob secret: 13\n",
      "x: 83\n",
      "x: 47\n",
      "Public key: 64\n",
      "24\n",
      "13\n"
     ]
    }
   ],
   "source": [
    "# p = 1111111111006001111111111\n",
    "# q = 13\n",
    "\n",
    "# p = 10911097110311091151\n",
    "# q = 6\n",
    "\n",
    "p = 113\n",
    "q = 76\n",
    "\n",
    "public_key, a, b, x, y = diffie_hellman(p, q)\n",
    "\n",
    "print(f\"Alice secret: {a}\")\n",
    "print(f\"Bob secret: {b}\")\n",
    "print(f\"x: {x}\")\n",
    "print(f\"x: {y}\")\n",
    "print(f\"Public key: {public_key}\")\n",
    "\n",
    "print(baby_step_giant_step(p, q, x))\n",
    "print(baby_step_giant_step(p, q, y))"
   ]
  }
 ],
 "metadata": {
  "kernelspec": {
   "display_name": "Python 3",
   "language": "python",
   "name": "python3"
  },
  "language_info": {
   "codemirror_mode": {
    "name": "ipython",
    "version": 3
   },
   "file_extension": ".py",
   "mimetype": "text/x-python",
   "name": "python",
   "nbconvert_exporter": "python",
   "pygments_lexer": "ipython3",
   "version": "3.10.6"
  }
 },
 "nbformat": 4,
 "nbformat_minor": 5
}
